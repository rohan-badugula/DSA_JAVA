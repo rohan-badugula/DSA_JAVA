{
 "cells": [
  {
   "cell_type": "code",
   "execution_count": 3,
   "metadata": {},
   "outputs": [
    {
     "name": "stdout",
     "output_type": "stream",
     "text": [
      "4\n"
     ]
    }
   ],
   "source": [
    "def p(q) :\n",
    "    q = q + [5]\n",
    "r = [1, 2, 3, 4]\n",
    "p(r)\n",
    "print(len(r))"
   ]
  },
  {
   "cell_type": "code",
   "execution_count": 8,
   "metadata": {},
   "outputs": [
    {
     "name": "stdout",
     "output_type": "stream",
     "text": [
      "Addition of 40 and 20 = 60\n",
      "Subtraction of 40 and 20 = 20\n",
      "Multiplication of 40 and 20 = 800\n",
      "Division of 40 and 20 = 2.0\n"
     ]
    }
   ],
   "source": [
    "num1 = int(input(\"num1: \"))\n",
    "num2 = int(input(\"num2: \"))\n",
    "print(\"Addition of \"+ str(num1) + \" and \"+ str(num2) + \" = \" + str(num1+num2))\n",
    "print(\"Subtraction of \"+ str(num1) + \" and \"+ str(num2) + \" = \" + str(num1-num2))\n",
    "print(\"Multiplication of \"+ str(num1) + \" and \"+ str(num2) + \" = \" + str(num1*num2))\n",
    "print(\"Division of \"+ str(num1) + \" and \"+ str(num2) + \" = \" + str(num1/num2))"
   ]
  },
  {
   "cell_type": "code",
   "execution_count": null,
   "metadata": {},
   "outputs": [],
   "source": []
  }
 ],
 "metadata": {
  "kernelspec": {
   "display_name": "Python 3",
   "language": "python",
   "name": "python3"
  },
  "language_info": {
   "codemirror_mode": {
    "name": "ipython",
    "version": 3
   },
   "file_extension": ".py",
   "mimetype": "text/x-python",
   "name": "python",
   "nbconvert_exporter": "python",
   "pygments_lexer": "ipython3",
   "version": "3.12.2"
  }
 },
 "nbformat": 4,
 "nbformat_minor": 2
}
